{
 "cells": [
  {
   "cell_type": "code",
   "execution_count": 12,
   "metadata": {},
   "outputs": [],
   "source": [
    "import torch\n",
    "import torch.nn as nn\n",
    "from torch.utils.data import DataLoader\n",
    "from IPython.display import clear_output\n",
    "import matplotlib.pyplot as plt\n",
    "\n",
    "from Blocks import Transformer, Data, MeanNormalization, get_size"
   ]
  },
  {
   "cell_type": "code",
   "execution_count": 13,
   "metadata": {},
   "outputs": [
    {
     "data": {
      "text/html": [
       "<div>\n",
       "<style scoped>\n",
       "    .dataframe tbody tr th:only-of-type {\n",
       "        vertical-align: middle;\n",
       "    }\n",
       "\n",
       "    .dataframe tbody tr th {\n",
       "        vertical-align: top;\n",
       "    }\n",
       "\n",
       "    .dataframe thead th {\n",
       "        text-align: right;\n",
       "    }\n",
       "</style>\n",
       "<table border=\"1\" class=\"dataframe\">\n",
       "  <thead>\n",
       "    <tr style=\"text-align: right;\">\n",
       "      <th></th>\n",
       "      <th>Pos1</th>\n",
       "      <th>Pos2</th>\n",
       "      <th>Pos3</th>\n",
       "      <th>Pos4</th>\n",
       "      <th>Pos5</th>\n",
       "      <th>Pos6</th>\n",
       "      <th>Pos7</th>\n",
       "      <th>Pos8</th>\n",
       "      <th>Pos9</th>\n",
       "      <th>Pos10</th>\n",
       "      <th>...</th>\n",
       "      <th>Neu21</th>\n",
       "      <th>Neu22</th>\n",
       "      <th>Neu23</th>\n",
       "      <th>Neu24</th>\n",
       "      <th>Neu25</th>\n",
       "      <th>Open</th>\n",
       "      <th>High</th>\n",
       "      <th>Low</th>\n",
       "      <th>Volume</th>\n",
       "      <th>Label</th>\n",
       "    </tr>\n",
       "    <tr>\n",
       "      <th>Date</th>\n",
       "      <th></th>\n",
       "      <th></th>\n",
       "      <th></th>\n",
       "      <th></th>\n",
       "      <th></th>\n",
       "      <th></th>\n",
       "      <th></th>\n",
       "      <th></th>\n",
       "      <th></th>\n",
       "      <th></th>\n",
       "      <th></th>\n",
       "      <th></th>\n",
       "      <th></th>\n",
       "      <th></th>\n",
       "      <th></th>\n",
       "      <th></th>\n",
       "      <th></th>\n",
       "      <th></th>\n",
       "      <th></th>\n",
       "      <th></th>\n",
       "      <th></th>\n",
       "    </tr>\n",
       "  </thead>\n",
       "  <tbody>\n",
       "    <tr>\n",
       "      <th>2008-08-08</th>\n",
       "      <td>0.066467</td>\n",
       "      <td>0.020223</td>\n",
       "      <td>0.043872</td>\n",
       "      <td>0.021866</td>\n",
       "      <td>0.01509</td>\n",
       "      <td>0.023724</td>\n",
       "      <td>0.051096</td>\n",
       "      <td>0.026434</td>\n",
       "      <td>0.012361</td>\n",
       "      <td>0.040297</td>\n",
       "      <td>...</td>\n",
       "      <td>0.873544</td>\n",
       "      <td>0.204416</td>\n",
       "      <td>0.538325</td>\n",
       "      <td>0.487061</td>\n",
       "      <td>0.411749</td>\n",
       "      <td>11432.089844</td>\n",
       "      <td>11759.959961</td>\n",
       "      <td>11388.040039</td>\n",
       "      <td>212830000.0</td>\n",
       "      <td>0.0</td>\n",
       "    </tr>\n",
       "    <tr>\n",
       "      <th>2008-08-11</th>\n",
       "      <td>0.071691</td>\n",
       "      <td>0.049347</td>\n",
       "      <td>0.932647</td>\n",
       "      <td>0.034207</td>\n",
       "      <td>0.02592</td>\n",
       "      <td>0.025570</td>\n",
       "      <td>0.018784</td>\n",
       "      <td>0.017460</td>\n",
       "      <td>0.055654</td>\n",
       "      <td>0.025160</td>\n",
       "      <td>...</td>\n",
       "      <td>0.534569</td>\n",
       "      <td>0.183160</td>\n",
       "      <td>0.895037</td>\n",
       "      <td>0.493829</td>\n",
       "      <td>0.930178</td>\n",
       "      <td>11729.669922</td>\n",
       "      <td>11867.110352</td>\n",
       "      <td>11675.530273</td>\n",
       "      <td>183190000.0</td>\n",
       "      <td>1.0</td>\n",
       "    </tr>\n",
       "  </tbody>\n",
       "</table>\n",
       "<p>2 rows × 80 columns</p>\n",
       "</div>"
      ],
      "text/plain": [
       "                Pos1      Pos2      Pos3      Pos4     Pos5      Pos6  \\\n",
       "Date                                                                    \n",
       "2008-08-08  0.066467  0.020223  0.043872  0.021866  0.01509  0.023724   \n",
       "2008-08-11  0.071691  0.049347  0.932647  0.034207  0.02592  0.025570   \n",
       "\n",
       "                Pos7      Pos8      Pos9     Pos10  ...     Neu21     Neu22  \\\n",
       "Date                                                ...                       \n",
       "2008-08-08  0.051096  0.026434  0.012361  0.040297  ...  0.873544  0.204416   \n",
       "2008-08-11  0.018784  0.017460  0.055654  0.025160  ...  0.534569  0.183160   \n",
       "\n",
       "               Neu23     Neu24     Neu25          Open          High  \\\n",
       "Date                                                                   \n",
       "2008-08-08  0.538325  0.487061  0.411749  11432.089844  11759.959961   \n",
       "2008-08-11  0.895037  0.493829  0.930178  11729.669922  11867.110352   \n",
       "\n",
       "                     Low       Volume  Label  \n",
       "Date                                          \n",
       "2008-08-08  11388.040039  212830000.0    0.0  \n",
       "2008-08-11  11675.530273  183190000.0    1.0  \n",
       "\n",
       "[2 rows x 80 columns]"
      ]
     },
     "execution_count": 13,
     "metadata": {},
     "output_type": "execute_result"
    }
   ],
   "source": [
    "data = torch.load(\"Data.pt\")\n",
    "\n",
    "temp = list(data.columns)\n",
    "cols = temp[1:]\n",
    "cols.append(\"Label\")\n",
    "data = data[cols].drop(columns = [\"Close\", \"Adj Close\"])\n",
    "data = data.astype(float)\n",
    "data.head(2)"
   ]
  },
  {
   "cell_type": "code",
   "execution_count": 14,
   "metadata": {},
   "outputs": [
    {
     "data": {
      "text/plain": [
       "torch.Size([1989, 80])"
      ]
     },
     "execution_count": 14,
     "metadata": {},
     "output_type": "execute_result"
    }
   ],
   "source": [
    "data = torch.FloatTensor(data.values)\n",
    "data.shape"
   ]
  },
  {
   "cell_type": "code",
   "execution_count": 15,
   "metadata": {},
   "outputs": [
    {
     "data": {
      "text/plain": [
       "(torch.Size([1690, 80]), torch.Size([299, 80]))"
      ]
     },
     "execution_count": 15,
     "metadata": {},
     "output_type": "execute_result"
    }
   ],
   "source": [
    "n = 0.85    #Train data precentage\n",
    "rows = data.shape[0]\n",
    "\n",
    "train_data = data[:int(rows*n),:]\n",
    "test_data = data[int(rows*n):,:]\n",
    "train_data.shape, test_data.shape"
   ]
  },
  {
   "cell_type": "code",
   "execution_count": 16,
   "metadata": {},
   "outputs": [
    {
     "name": "stdout",
     "output_type": "stream",
     "text": [
      "torch.Size([1690, 80])\n",
      "torch.Size([299, 80])\n"
     ]
    }
   ],
   "source": [
    "d_set_train = Data(train_data, win_len=30, stride=1, transform = MeanNormalization())\n",
    "d_set_test = Data(test_data, win_len=30, stride=1, transform = MeanNormalization())"
   ]
  },
  {
   "cell_type": "code",
   "execution_count": 17,
   "metadata": {},
   "outputs": [],
   "source": [
    "trainloader = DataLoader(dataset=d_set_train, batch_size = 16)\n",
    "testloader = DataLoader(dataset=d_set_test, batch_size = 16)"
   ]
  },
  {
   "cell_type": "code",
   "execution_count": 18,
   "metadata": {},
   "outputs": [],
   "source": [
    "device = torch.device('cuda:0')\n",
    "model = Transformer(embed_dim=79, enc_expansion=4, dec_expansion=4, enc_heads=8, dec_heads=8,\n",
    "                    num_enc=6, num_dec=6, pos_enc=True, device=device)"
   ]
  },
  {
   "cell_type": "code",
   "execution_count": 19,
   "metadata": {},
   "outputs": [
    {
     "data": {
      "text/plain": [
       "'model size: 38652544 / bit | 4.83 / MB'"
      ]
     },
     "execution_count": 19,
     "metadata": {},
     "output_type": "execute_result"
    }
   ],
   "source": [
    "get_size(model)"
   ]
  },
  {
   "cell_type": "markdown",
   "metadata": {},
   "source": [
    "<center><h1>Training"
   ]
  },
  {
   "cell_type": "code",
   "execution_count": 20,
   "metadata": {},
   "outputs": [],
   "source": [
    "from torch import optim"
   ]
  },
  {
   "cell_type": "code",
   "execution_count": 21,
   "metadata": {},
   "outputs": [],
   "source": [
    "model.to(device)\n",
    "criterion = nn.BCELoss()\n",
    "\n",
    "optimizer = optim.AdamW(model.parameters(), lr = 1e-3)\n",
    "epochs = 100"
   ]
  },
  {
   "cell_type": "code",
   "execution_count": 23,
   "metadata": {},
   "outputs": [
    {
     "name": "stdout",
     "output_type": "stream",
     "text": [
      "Epoch : 0, Batch : 100, Train Loss : 0.6953780651092529, Validation Loss : 0.6981419920921326, Validation Accuracy : 0.5054320693016052\n"
     ]
    },
    {
     "data": {
      "image/png": "[encoded data removed]",
      "text/plain": [
       "<Figure size 640x480 with 1 Axes>"
      ]
     },
     "metadata": {},
     "output_type": "display_data"
    },
    {
     "name": "stdout",
     "output_type": "stream",
     "text": [
      "CPU times: total: 2min 4s\n",
      "Wall time: 39.1 s\n"
     ]
    }
   ],
   "source": [
    "%%time\n",
    "train_loss = []\n",
    "val_loss = []\n",
    "val_acc = []\n",
    "\n",
    "for epoch in range(epochs):\n",
    "    for i,(x,y) in enumerate(trainloader):\n",
    "        model.train()\n",
    "        x = x.to(device)\n",
    "        y = y.to(device)\n",
    "\n",
    "        yhat = model(x, y)\n",
    "        loss = criterion(yhat, y)\n",
    "        \n",
    "        optimizer.zero_grad()\n",
    "        loss.backward()\n",
    "        optimizer.step()\n",
    "        \n",
    "        if i%50 == 0:\n",
    "            v_loss, v_acc, total_correct, total_samples = 0, 0, 0, 0\n",
    "            for xv, yv in testloader:\n",
    "                xv = xv.to(device)\n",
    "                yv = yv.to(device)\n",
    "                model.eval()\n",
    "                y_vhat = model(xv, yv)\n",
    "\n",
    "                v_loss += criterion(y_vhat,yv)\n",
    "                y_vhat = torch.round(y_vhat)\n",
    "                total_correct += (y_vhat == yv).sum()\n",
    "                total_samples += yv.numel()\n",
    "\n",
    "            v_acc = total_correct / total_samples\n",
    "            val_acc.append(v_acc.data.cpu().numpy())\n",
    "            v_loss = v_loss/len(testloader)\n",
    "            val_loss.append(v_loss.data.cpu().numpy())\n",
    "            train_loss.append(loss.data.cpu().numpy())\n",
    "            clear_output(wait = True)\n",
    "            print(f\"Epoch : {epoch}, Batch : {i}, Train Loss : {loss.data}, Validation Loss : {v_loss.data}, Validation Accuracy : {v_acc}\")\n",
    "            \n",
    "            plt.plot(train_loss, label = \"Training Loss\")\n",
    "            plt.plot(val_loss, label = \"Validation Loss\")\n",
    "            plt.plot(val_acc, label = \"Validation Accuracy\")\n",
    "            plt.title(\"enc_expansion=12, dec_expansion=12, enc_heads=4, dec_heads=4, num_enc=8, num_dec=8, lr = 1e-3, weight_decay = 0, win_len = 30\")\n",
    "            plt.legend()\n",
    "            plt.show()"
   ]
  }
 ],
 "metadata": {
  "kernelspec": {
   "display_name": "PyTorch",
   "language": "python",
   "name": "python3"
  },
  "language_info": {
   "codemirror_mode": {
    "name": "ipython",
    "version": 3
   },
   "file_extension": ".py",
   "mimetype": "text/x-python",
   "name": "python",
   "nbconvert_exporter": "python",
   "pygments_lexer": "ipython3",
   "version": "3.8.3"
  },
  "orig_nbformat": 4
 },
 "nbformat": 4,
 "nbformat_minor": 2
}
