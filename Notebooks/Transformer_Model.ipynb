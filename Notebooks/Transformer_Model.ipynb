{
 "cells": [
  {
   "cell_type": "code",
   "execution_count": 1,
   "metadata": {},
   "outputs": [],
   "source": [
    "import torch\n",
    "import torch.nn as nn\n",
    "from torch.utils.data import DataLoader\n",
    "from tqdm import tqdm\n",
    "\n",
    "from Blocks import Transformer, Data, MeanNormalization, get_size"
   ]
  },
  {
   "cell_type": "code",
   "execution_count": 11,
   "metadata": {},
   "outputs": [
    {
     "data": {
      "text/html": [
       "<div>\n",
       "<style scoped>\n",
       "    .dataframe tbody tr th:only-of-type {\n",
       "        vertical-align: middle;\n",
       "    }\n",
       "\n",
       "    .dataframe tbody tr th {\n",
       "        vertical-align: top;\n",
       "    }\n",
       "\n",
       "    .dataframe thead th {\n",
       "        text-align: right;\n",
       "    }\n",
       "</style>\n",
       "<table border=\"1\" class=\"dataframe\">\n",
       "  <thead>\n",
       "    <tr style=\"text-align: right;\">\n",
       "      <th></th>\n",
       "      <th>Pos1</th>\n",
       "      <th>Pos2</th>\n",
       "      <th>Pos3</th>\n",
       "      <th>Pos4</th>\n",
       "      <th>Pos5</th>\n",
       "      <th>Pos6</th>\n",
       "      <th>Pos7</th>\n",
       "      <th>Pos8</th>\n",
       "      <th>Pos9</th>\n",
       "      <th>Pos10</th>\n",
       "      <th>...</th>\n",
       "      <th>Neu21</th>\n",
       "      <th>Neu22</th>\n",
       "      <th>Neu23</th>\n",
       "      <th>Neu24</th>\n",
       "      <th>Neu25</th>\n",
       "      <th>Open</th>\n",
       "      <th>High</th>\n",
       "      <th>Low</th>\n",
       "      <th>Volume</th>\n",
       "      <th>Label</th>\n",
       "    </tr>\n",
       "    <tr>\n",
       "      <th>Date</th>\n",
       "      <th></th>\n",
       "      <th></th>\n",
       "      <th></th>\n",
       "      <th></th>\n",
       "      <th></th>\n",
       "      <th></th>\n",
       "      <th></th>\n",
       "      <th></th>\n",
       "      <th></th>\n",
       "      <th></th>\n",
       "      <th></th>\n",
       "      <th></th>\n",
       "      <th></th>\n",
       "      <th></th>\n",
       "      <th></th>\n",
       "      <th></th>\n",
       "      <th></th>\n",
       "      <th></th>\n",
       "      <th></th>\n",
       "      <th></th>\n",
       "      <th></th>\n",
       "    </tr>\n",
       "  </thead>\n",
       "  <tbody>\n",
       "    <tr>\n",
       "      <th>2008-08-08</th>\n",
       "      <td>0.066467</td>\n",
       "      <td>0.020223</td>\n",
       "      <td>0.043872</td>\n",
       "      <td>0.021866</td>\n",
       "      <td>0.01509</td>\n",
       "      <td>0.023724</td>\n",
       "      <td>0.051096</td>\n",
       "      <td>0.026434</td>\n",
       "      <td>0.012361</td>\n",
       "      <td>0.040297</td>\n",
       "      <td>...</td>\n",
       "      <td>0.873544</td>\n",
       "      <td>0.204416</td>\n",
       "      <td>0.538325</td>\n",
       "      <td>0.487061</td>\n",
       "      <td>0.411749</td>\n",
       "      <td>11432.089844</td>\n",
       "      <td>11759.959961</td>\n",
       "      <td>11388.040039</td>\n",
       "      <td>212830000.0</td>\n",
       "      <td>0.0</td>\n",
       "    </tr>\n",
       "    <tr>\n",
       "      <th>2008-08-11</th>\n",
       "      <td>0.071691</td>\n",
       "      <td>0.049347</td>\n",
       "      <td>0.932647</td>\n",
       "      <td>0.034207</td>\n",
       "      <td>0.02592</td>\n",
       "      <td>0.025570</td>\n",
       "      <td>0.018784</td>\n",
       "      <td>0.017460</td>\n",
       "      <td>0.055654</td>\n",
       "      <td>0.025160</td>\n",
       "      <td>...</td>\n",
       "      <td>0.534569</td>\n",
       "      <td>0.183160</td>\n",
       "      <td>0.895037</td>\n",
       "      <td>0.493829</td>\n",
       "      <td>0.930178</td>\n",
       "      <td>11729.669922</td>\n",
       "      <td>11867.110352</td>\n",
       "      <td>11675.530273</td>\n",
       "      <td>183190000.0</td>\n",
       "      <td>1.0</td>\n",
       "    </tr>\n",
       "  </tbody>\n",
       "</table>\n",
       "<p>2 rows × 80 columns</p>\n",
       "</div>"
      ],
      "text/plain": [
       "                Pos1      Pos2      Pos3      Pos4     Pos5      Pos6  \\\n",
       "Date                                                                    \n",
       "2008-08-08  0.066467  0.020223  0.043872  0.021866  0.01509  0.023724   \n",
       "2008-08-11  0.071691  0.049347  0.932647  0.034207  0.02592  0.025570   \n",
       "\n",
       "                Pos7      Pos8      Pos9     Pos10  ...     Neu21     Neu22  \\\n",
       "Date                                                ...                       \n",
       "2008-08-08  0.051096  0.026434  0.012361  0.040297  ...  0.873544  0.204416   \n",
       "2008-08-11  0.018784  0.017460  0.055654  0.025160  ...  0.534569  0.183160   \n",
       "\n",
       "               Neu23     Neu24     Neu25          Open          High  \\\n",
       "Date                                                                   \n",
       "2008-08-08  0.538325  0.487061  0.411749  11432.089844  11759.959961   \n",
       "2008-08-11  0.895037  0.493829  0.930178  11729.669922  11867.110352   \n",
       "\n",
       "                     Low       Volume  Label  \n",
       "Date                                          \n",
       "2008-08-08  11388.040039  212830000.0    0.0  \n",
       "2008-08-11  11675.530273  183190000.0    1.0  \n",
       "\n",
       "[2 rows x 80 columns]"
      ]
     },
     "execution_count": 11,
     "metadata": {},
     "output_type": "execute_result"
    }
   ],
   "source": [
    "data = torch.load(\"Data.pt\")\n",
    "\n",
    "temp = list(data.columns)\n",
    "cols = temp[1:]\n",
    "cols.append(\"Label\")\n",
    "data = data[cols].drop(columns = [\"Close\", \"Adj Close\"])\n",
    "data = data.astype(float)\n",
    "data.head(2)"
   ]
  },
  {
   "cell_type": "code",
   "execution_count": 12,
   "metadata": {},
   "outputs": [
    {
     "data": {
      "text/plain": [
       "torch.Size([1989, 80])"
      ]
     },
     "execution_count": 12,
     "metadata": {},
     "output_type": "execute_result"
    }
   ],
   "source": [
    "data = torch.FloatTensor(data.values)\n",
    "data.shape"
   ]
  },
  {
   "cell_type": "code",
   "execution_count": 4,
   "metadata": {},
   "outputs": [
    {
     "data": {
      "text/plain": [
       "(torch.Size([1690, 82]), torch.Size([299, 82]))"
      ]
     },
     "execution_count": 4,
     "metadata": {},
     "output_type": "execute_result"
    }
   ],
   "source": [
    "n = 0.85    #Train data precentage\n",
    "rows = data.shape[0]\n",
    "\n",
    "train_data = data[:int(rows*n),:]\n",
    "test_data = data[int(rows*n):,:]\n",
    "train_data.shape, test_data.shape"
   ]
  },
  {
   "cell_type": "code",
   "execution_count": 5,
   "metadata": {},
   "outputs": [
    {
     "name": "stdout",
     "output_type": "stream",
     "text": [
      "torch.Size([1690, 82])\n",
      "torch.Size([299, 82])\n"
     ]
    }
   ],
   "source": [
    "d_set_train = Data(train_data, win_len=30, stride=1, transform = MeanNormalization())\n",
    "d_set_test = Data(test_data, win_len=10, stride=1, transform = MeanNormalization())"
   ]
  },
  {
   "cell_type": "code",
   "execution_count": 6,
   "metadata": {},
   "outputs": [],
   "source": [
    "trainloader = DataLoader(dataset=d_set_train, batch_size = 16)\n",
    "testloader = DataLoader(dataset=d_set_test, batch_size = 16)"
   ]
  },
  {
   "cell_type": "code",
   "execution_count": 7,
   "metadata": {},
   "outputs": [],
   "source": [
    "device = torch.device('cuda:0')\n",
    "model = Transformer(embed_dim=81, enc_expansion=4, dec_expansion=4, enc_heads=8, dec_heads=8,\n",
    "                    num_enc=6, num_dec=6, pos_enc=True, device=device)"
   ]
  },
  {
   "cell_type": "code",
   "execution_count": 8,
   "metadata": {},
   "outputs": [
    {
     "data": {
      "text/plain": [
       "'model size: 40626368 / bit | 5.08 / MB'"
      ]
     },
     "execution_count": 8,
     "metadata": {},
     "output_type": "execute_result"
    }
   ],
   "source": [
    "get_size(model)"
   ]
  },
  {
   "cell_type": "code",
   "execution_count": 10,
   "metadata": {},
   "outputs": [
    {
     "data": {
      "text/plain": [
       "tensor(1.)"
      ]
     },
     "execution_count": 10,
     "metadata": {},
     "output_type": "execute_result"
    }
   ],
   "source": [
    "torch.std(d_set_train[0][0][:,5])"
   ]
  },
  {
   "cell_type": "markdown",
   "metadata": {},
   "source": [
    "<center><h1>Training"
   ]
  },
  {
   "cell_type": "code",
   "execution_count": 9,
   "metadata": {},
   "outputs": [],
   "source": [
    "from torch import optim"
   ]
  },
  {
   "cell_type": "code",
   "execution_count": 10,
   "metadata": {},
   "outputs": [],
   "source": [
    "model.to(device)\n",
    "criterion = nn.BCELoss()\n",
    "\n",
    "optimizer = optim.AdamW(model.parameters(), lr = 0.1)\n",
    "epochs = 10"
   ]
  },
  {
   "cell_type": "code",
   "execution_count": 11,
   "metadata": {},
   "outputs": [
    {
     "name": "stderr",
     "output_type": "stream",
     "text": [
      "  0%|          | 0/10 [00:00<?, ?it/s]"
     ]
    },
    {
     "name": "stderr",
     "output_type": "stream",
     "text": [
      " 10%|█         | 1/10 [01:03<09:34, 63.79s/it]\n"
     ]
    },
    {
     "ename": "KeyboardInterrupt",
     "evalue": "",
     "output_type": "error",
     "traceback": [
      "\u001b[1;31m---------------------------------------------------------------------------\u001b[0m",
      "\u001b[1;31mKeyboardInterrupt\u001b[0m                         Traceback (most recent call last)",
      "\u001b[1;32me:\\Users\\chinm\\Desktop\\IIT Bhilai\\z Completed Course\\Sem5\\Machine Learning\\Project\\Transformers\\Transformer_Model.ipynb Cell 12\u001b[0m line \u001b[0;36m9\n\u001b[0;32m      <a href='vscode-notebook-cell:/e%3A/Users/chinm/Desktop/IIT%20Bhilai/z%20Completed%20Course/Sem5/Machine%20Learning/Project/Transformers/Transformer_Model.ipynb#X14sZmlsZQ%3D%3D?line=6'>7</a>\u001b[0m loss \u001b[39m=\u001b[39m criterion(yhat, y)\n\u001b[0;32m      <a href='vscode-notebook-cell:/e%3A/Users/chinm/Desktop/IIT%20Bhilai/z%20Completed%20Course/Sem5/Machine%20Learning/Project/Transformers/Transformer_Model.ipynb#X14sZmlsZQ%3D%3D?line=7'>8</a>\u001b[0m optimizer\u001b[39m.\u001b[39mzero_grad()\n\u001b[1;32m----> <a href='vscode-notebook-cell:/e%3A/Users/chinm/Desktop/IIT%20Bhilai/z%20Completed%20Course/Sem5/Machine%20Learning/Project/Transformers/Transformer_Model.ipynb#X14sZmlsZQ%3D%3D?line=8'>9</a>\u001b[0m loss\u001b[39m.\u001b[39;49mbackward()\n\u001b[0;32m     <a href='vscode-notebook-cell:/e%3A/Users/chinm/Desktop/IIT%20Bhilai/z%20Completed%20Course/Sem5/Machine%20Learning/Project/Transformers/Transformer_Model.ipynb#X14sZmlsZQ%3D%3D?line=9'>10</a>\u001b[0m optimizer\u001b[39m.\u001b[39mstep()\n",
      "File \u001b[1;32me:\\Users\\chinm\\anaconda3\\envs\\PyTorch\\lib\\site-packages\\torch\\_tensor.py:487\u001b[0m, in \u001b[0;36mTensor.backward\u001b[1;34m(self, gradient, retain_graph, create_graph, inputs)\u001b[0m\n\u001b[0;32m    477\u001b[0m \u001b[39mif\u001b[39;00m has_torch_function_unary(\u001b[39mself\u001b[39m):\n\u001b[0;32m    478\u001b[0m     \u001b[39mreturn\u001b[39;00m handle_torch_function(\n\u001b[0;32m    479\u001b[0m         Tensor\u001b[39m.\u001b[39mbackward,\n\u001b[0;32m    480\u001b[0m         (\u001b[39mself\u001b[39m,),\n\u001b[1;32m   (...)\u001b[0m\n\u001b[0;32m    485\u001b[0m         inputs\u001b[39m=\u001b[39minputs,\n\u001b[0;32m    486\u001b[0m     )\n\u001b[1;32m--> 487\u001b[0m torch\u001b[39m.\u001b[39;49mautograd\u001b[39m.\u001b[39;49mbackward(\n\u001b[0;32m    488\u001b[0m     \u001b[39mself\u001b[39;49m, gradient, retain_graph, create_graph, inputs\u001b[39m=\u001b[39;49minputs\n\u001b[0;32m    489\u001b[0m )\n",
      "File \u001b[1;32me:\\Users\\chinm\\anaconda3\\envs\\PyTorch\\lib\\site-packages\\torch\\autograd\\__init__.py:200\u001b[0m, in \u001b[0;36mbackward\u001b[1;34m(tensors, grad_tensors, retain_graph, create_graph, grad_variables, inputs)\u001b[0m\n\u001b[0;32m    195\u001b[0m     retain_graph \u001b[39m=\u001b[39m create_graph\n\u001b[0;32m    197\u001b[0m \u001b[39m# The reason we repeat same the comment below is that\u001b[39;00m\n\u001b[0;32m    198\u001b[0m \u001b[39m# some Python versions print out the first line of a multi-line function\u001b[39;00m\n\u001b[0;32m    199\u001b[0m \u001b[39m# calls in the traceback and some print out the last line\u001b[39;00m\n\u001b[1;32m--> 200\u001b[0m Variable\u001b[39m.\u001b[39;49m_execution_engine\u001b[39m.\u001b[39;49mrun_backward(  \u001b[39m# Calls into the C++ engine to run the backward pass\u001b[39;49;00m\n\u001b[0;32m    201\u001b[0m     tensors, grad_tensors_, retain_graph, create_graph, inputs,\n\u001b[0;32m    202\u001b[0m     allow_unreachable\u001b[39m=\u001b[39;49m\u001b[39mTrue\u001b[39;49;00m, accumulate_grad\u001b[39m=\u001b[39;49m\u001b[39mTrue\u001b[39;49;00m)\n",
      "\u001b[1;31mKeyboardInterrupt\u001b[0m: "
     ]
    }
   ],
   "source": [
    "for _ in tqdm(range(epochs)):\n",
    "    for x,y in trainloader:\n",
    "        x = x.to(device)\n",
    "        y = y.to(device)\n",
    "\n",
    "        yhat = model(x, y)\n",
    "        loss = criterion(yhat, y)\n",
    "        optimizer.zero_grad()\n",
    "        loss.backward()\n",
    "        optimizer.step()"
   ]
  }
 ],
 "metadata": {
  "kernelspec": {
   "display_name": "PyTorch",
   "language": "python",
   "name": "python3"
  },
  "language_info": {
   "codemirror_mode": {
    "name": "ipython",
    "version": 3
   },
   "file_extension": ".py",
   "mimetype": "text/x-python",
   "name": "python",
   "nbconvert_exporter": "python",
   "pygments_lexer": "ipython3",
   "version": "3.8.3"
  },
  "orig_nbformat": 4
 },
 "nbformat": 4,
 "nbformat_minor": 2
}
